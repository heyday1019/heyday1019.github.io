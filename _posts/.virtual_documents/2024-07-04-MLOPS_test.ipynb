








SELECT * FROM classicmodels.custoers;





USE classicmodels; 
SELECT  *  FROM customers;





SELECT  SUM(salesRepEmployeeNumber),COUNT(salesRepEmployeeNumber) FROM customers;





SELECT customerNumber as customerNumber2
FROM customers ;
